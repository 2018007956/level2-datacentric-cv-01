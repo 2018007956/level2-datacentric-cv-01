{
 "cells": [
  {
   "cell_type": "code",
   "execution_count": 9,
   "metadata": {},
   "outputs": [],
   "source": [
    "import json\n",
    "import os\n",
    "import os.path as osp\n",
    "import shutil\n",
    "\n",
    "from sklearn.model_selection import train_test_split"
   ]
  },
  {
   "cell_type": "code",
   "execution_count": 10,
   "metadata": {},
   "outputs": [],
   "source": [
    "seed = 137\n",
    "\n",
    "root_dir = '../data/medical/'\n",
    "json_file = osp.join(root_dir, 'ufo/train.json') # json 파일 경로\n",
    "train_split_json = osp.join(root_dir, 'ufo/train_split.json')\n",
    "valid_split_json = osp.join(root_dir, 'ufo/valid_split.json')\n",
    "\n",
    "with open(json_file, 'r') as f:\n",
    "    data = json.load(f)\n",
    "    \n",
    "images = list(data['images'].keys())\n",
    "\n",
    "# 8 : 2 split\n",
    "train, val = train_test_split(images, train_size=0.8, shuffle=True, random_state=seed)\n",
    "\n",
    "train_images = {img_id: data['images'][img_id] for img_id in train}\n",
    "train_anns = {'images': train_images}\n",
    "valid_images = {img_id: data['images'][img_id] for img_id in val}\n",
    "valid_anns = {'images': valid_images}\n",
    "\n",
    "# create json\n",
    "with open(train_split_json, 'w', encoding='utf-8') as f:\n",
    "    json.dump(train_anns, f, indent=4, ensure_ascii=False)\n",
    "with open(valid_split_json, 'w', encoding='utf-8') as f:\n",
    "    json.dump(valid_anns, f, indent=4, ensure_ascii=False)\n",
    "    \n",
    "# split folder\n",
    "train_split_dir = osp.join(root_dir, 'img/train_split/')\n",
    "valid_split_dir = osp.join(root_dir, 'img/valid_split/')\n",
    "\n",
    "os.makedirs(train_split_dir, exist_ok=True)\n",
    "os.makedirs(valid_split_dir, exist_ok=True)\n",
    "\n",
    "for train_image in train_images :\n",
    "    shutil.copy(osp.join(root_dir, 'img/train/', train_image), osp.join(train_split_dir, train_image))\n",
    "for valid_image in valid_images :\n",
    "    shutil.copy(osp.join(root_dir, 'img/train/', valid_image), osp.join(valid_split_dir, valid_image))\n"
   ]
  }
 ],
 "metadata": {
  "kernelspec": {
   "display_name": "base",
   "language": "python",
   "name": "python3"
  },
  "language_info": {
   "codemirror_mode": {
    "name": "ipython",
    "version": 3
   },
   "file_extension": ".py",
   "mimetype": "text/x-python",
   "name": "python",
   "nbconvert_exporter": "python",
   "pygments_lexer": "ipython3",
   "version": "3.10.13"
  }
 },
 "nbformat": 4,
 "nbformat_minor": 2
}
