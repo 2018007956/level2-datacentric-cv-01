{
 "cells": [
  {
   "cell_type": "code",
   "execution_count": 1,
   "metadata": {},
   "outputs": [],
   "source": [
    "import os\n",
    "import numpy as np\n",
    "import glob\n",
    "from PIL import Image\n",
    "from tqdm import tqdm"
   ]
  },
  {
   "cell_type": "code",
   "execution_count": 2,
   "metadata": {},
   "outputs": [],
   "source": [
    "data_dir = '/data/ephemeral/home/level2-cv-datacentric-cv-01/data/medical/img/train'\n",
    "img_path = glob.glob(os.path.join(data_dir,'*.jpg'))\n",
    "\n",
    "img_list = []\n",
    "for m in img_path:\n",
    "    img = Image.open(m)\n",
    "\n",
    "    assert img.mode == 'RGB'\n",
    "    \n",
    "    img = np.array(img)\n",
    "    img_list.append(img)"
   ]
  },
  {
   "cell_type": "code",
   "execution_count": 3,
   "metadata": {},
   "outputs": [],
   "source": [
    "def calculate_norm(img_list):\n",
    "    # dataset의 axis=1, 2에 대한 평균 산출\n",
    "    mean_ = np.array([np.mean(x, axis=(0, 1)) for x in tqdm(img_list, ascii=True)])\n",
    "    # r, g, b 채널에 대한 각각의 평균 산출\n",
    "    mean_r = mean_[..., 0].mean() / 255.0\n",
    "    mean_g = mean_[..., 1].mean() / 255.0\n",
    "    mean_b = mean_[..., 2].mean() / 255.0\n",
    "\n",
    "    # dataset의 axis=1, 2에 대한 표준편차 산출\n",
    "    std_ = np.array([np.std(x, axis=(0, 1)) for x in tqdm(img_list, ascii=True)])\n",
    "    # r, g, b 채널에 대한 각각의 표준편차 산출\n",
    "    std_r = std_[..., 0].mean() / 255.0\n",
    "    std_g = std_[..., 1].mean() / 255.0\n",
    "    std_b = std_[..., 2].mean() / 255.0\n",
    "    \n",
    "    return (mean_r, mean_g, mean_b), (std_r, std_g, std_b)"
   ]
  },
  {
   "cell_type": "code",
   "execution_count": 4,
   "metadata": {},
   "outputs": [
    {
     "name": "stderr",
     "output_type": "stream",
     "text": [
      "100%|##########| 100/100 [00:20<00:00,  4.97it/s]\n",
      "100%|##########| 100/100 [00:52<00:00,  1.90it/s]\n"
     ]
    },
    {
     "data": {
      "text/plain": [
       "((0.7760271717131425, 0.7722186515548635, 0.7670997062399484),\n",
       " (0.17171108542242774, 0.17888224507630185, 0.18678791254805846))"
      ]
     },
     "execution_count": 4,
     "metadata": {},
     "output_type": "execute_result"
    }
   ],
   "source": [
    "calculate_norm(img_list)"
   ]
  }
 ],
 "metadata": {
  "kernelspec": {
   "display_name": "base",
   "language": "python",
   "name": "python3"
  },
  "language_info": {
   "codemirror_mode": {
    "name": "ipython",
    "version": 3
   },
   "file_extension": ".py",
   "mimetype": "text/x-python",
   "name": "python",
   "nbconvert_exporter": "python",
   "pygments_lexer": "ipython3",
   "version": "3.10.13"
  }
 },
 "nbformat": 4,
 "nbformat_minor": 2
}
