{
 "cells": [
  {
   "cell_type": "code",
   "execution_count": 1,
   "metadata": {},
   "outputs": [],
   "source": [
    "import os\n",
    "import os.path as osp\n",
    "import json\n",
    "import cv2\n",
    "import numpy as np"
   ]
  },
  {
   "cell_type": "code",
   "execution_count": 10,
   "metadata": {},
   "outputs": [],
   "source": [
    "palette_rgb = [\n",
    "    (255, 0, 0),      # Red\n",
    "    (208, 255, 0),    # Yellow-green\n",
    "    (0, 116, 255),    # Light blue\n",
    "    (184, 0, 255),    # Purple\n",
    "    (255, 147, 0),    # Orange\n",
    "    (61, 255, 0),     # Green\n",
    "    (0, 255, 245),    # Cyan\n",
    "    (37, 0, 255),     # Blue\n",
    "    (0, 255, 92),     # Green-cyan\n",
    "    (255, 0, 171)     # Pink\n",
    "]\n",
    "\n",
    "# Convert RGB to BGR\n",
    "palette = [(b, g, r) for (r, g, b) in palette_rgb]"
   ]
  },
  {
   "cell_type": "code",
   "execution_count": 12,
   "metadata": {},
   "outputs": [],
   "source": [
    "\"\"\"\n",
    "json_path : inference한 json 파일을 저장한 디렉토리를 지정합니다.\n",
    "test_img_path : test 데이터셋 디렉토리의 경로를 지정합니다.\n",
    "save_dir : 저장할 디렉토리 경로를 지정합니다.\n",
    "\n",
    "\"\"\"\n",
    "\n",
    "json_path = '../../data/medical/json_folder'\n",
    "test_img_path = '../../data/medical/img/test'\n",
    "\n",
    "\n",
    "save_dir = '../../annotate_dir'\n",
    "os.makedirs(save_dir, exist_ok=True)"
   ]
  },
  {
   "cell_type": "code",
   "execution_count": 13,
   "metadata": {},
   "outputs": [],
   "source": [
    "annotations = []\n",
    "for js in os.listdir(json_path):\n",
    "    with open(osp.join(json_path,js), 'r') as f:\n",
    "        annotations.append(json.load(f))"
   ]
  },
  {
   "cell_type": "code",
   "execution_count": 14,
   "metadata": {},
   "outputs": [],
   "source": [
    "for img in annotations[0]['images']:\n",
    "\n",
    "    image = cv2.imread(osp.join(test_img_path,img))\n",
    "\n",
    "    for idx in range(len(annotations)):\n",
    "        for box_num in annotations[idx]['images'][img]['words']:\n",
    "            \n",
    "            points = annotations[idx]['images'][img]['words'][box_num]['points']\n",
    "            pts = np.array(points, np.int32)\n",
    "            pts = pts.reshape((-1, 1, 2))\n",
    "\n",
    "            cv2.polylines(image, [pts], isClosed=True, color=palette[idx], thickness=2)\n",
    "    \n",
    "    cv2.imwrite(osp.join(save_dir,img),image)\n"
   ]
  }
 ],
 "metadata": {
  "kernelspec": {
   "display_name": "base",
   "language": "python",
   "name": "python3"
  },
  "language_info": {
   "codemirror_mode": {
    "name": "ipython",
    "version": 3
   },
   "file_extension": ".py",
   "mimetype": "text/x-python",
   "name": "python",
   "nbconvert_exporter": "python",
   "pygments_lexer": "ipython3",
   "version": "3.10.13"
  }
 },
 "nbformat": 4,
 "nbformat_minor": 2
}
