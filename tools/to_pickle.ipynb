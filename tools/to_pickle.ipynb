{
 "cells": [
  {
   "cell_type": "code",
   "execution_count": 5,
   "metadata": {},
   "outputs": [],
   "source": [
    "import sys\n",
    "import pickle\n",
    "from tqdm import tqdm\n",
    "import os.path as osp\n",
    "\n",
    "sys.path.append('/data/ephemeral/home/level2-cv-datacentric-cv-01/code/')\n",
    "from east_dataset import EASTDataset\n",
    "from dataset import SceneTextDataset"
   ]
  },
  {
   "cell_type": "code",
   "execution_count": 7,
   "metadata": {},
   "outputs": [
    {
     "ename": "FileNotFoundError",
     "evalue": "[Errno 2] No such file or directory: '/data/ephemeral/home/level2-cv-datacentric-cv-01/data/medical/ufo/train_seed137.json.json'",
     "output_type": "error",
     "traceback": [
      "\u001b[0;31m---------------------------------------------------------------------------\u001b[0m",
      "\u001b[0;31mFileNotFoundError\u001b[0m                         Traceback (most recent call last)",
      "Cell \u001b[0;32mIn[7], line 6\u001b[0m\n\u001b[1;32m      3\u001b[0m crop_size \u001b[38;5;241m=\u001b[39m \u001b[38;5;241m1024\u001b[39m\n\u001b[1;32m      4\u001b[0m ignore_tags \u001b[38;5;241m=\u001b[39m [\u001b[38;5;124m'\u001b[39m\u001b[38;5;124mmasked\u001b[39m\u001b[38;5;124m'\u001b[39m, \u001b[38;5;124m'\u001b[39m\u001b[38;5;124mexcluded-region\u001b[39m\u001b[38;5;124m'\u001b[39m, \u001b[38;5;124m'\u001b[39m\u001b[38;5;124mmaintable\u001b[39m\u001b[38;5;124m'\u001b[39m, \u001b[38;5;124m'\u001b[39m\u001b[38;5;124mstamp\u001b[39m\u001b[38;5;124m'\u001b[39m]\n\u001b[0;32m----> 6\u001b[0m train_dataset \u001b[38;5;241m=\u001b[39m \u001b[43mSceneTextDataset\u001b[49m\u001b[43m(\u001b[49m\n\u001b[1;32m      7\u001b[0m \u001b[43m        \u001b[49m\u001b[43mroot_dir\u001b[49m\u001b[38;5;241;43m=\u001b[39;49m\u001b[43mdata_dir\u001b[49m\u001b[43m,\u001b[49m\n\u001b[1;32m      8\u001b[0m \u001b[43m        \u001b[49m\u001b[43msplit\u001b[49m\u001b[38;5;241;43m=\u001b[39;49m\u001b[38;5;124;43m'\u001b[39;49m\u001b[38;5;124;43mtrain\u001b[39;49m\u001b[38;5;124;43m'\u001b[39;49m\u001b[43m,\u001b[49m\n\u001b[1;32m      9\u001b[0m \u001b[43m        \u001b[49m\u001b[43mtrain_val\u001b[49m\u001b[38;5;241;43m=\u001b[39;49m\u001b[38;5;124;43m'\u001b[39;49m\u001b[38;5;124;43mtrain_seed137.json\u001b[39;49m\u001b[38;5;124;43m'\u001b[39;49m\u001b[43m,\u001b[49m\n\u001b[1;32m     10\u001b[0m \u001b[43m        \u001b[49m\u001b[43mimage_size\u001b[49m\u001b[38;5;241;43m=\u001b[39;49m\u001b[43mimage_size\u001b[49m\u001b[43m,\u001b[49m\n\u001b[1;32m     11\u001b[0m \u001b[43m        \u001b[49m\u001b[43mcrop_size\u001b[49m\u001b[38;5;241;43m=\u001b[39;49m\u001b[43mcrop_size\u001b[49m\u001b[43m,\u001b[49m\n\u001b[1;32m     12\u001b[0m \u001b[43m        \u001b[49m\u001b[43mignore_tags\u001b[49m\u001b[38;5;241;43m=\u001b[39;49m\u001b[43mignore_tags\u001b[49m\n\u001b[1;32m     13\u001b[0m \u001b[43m    \u001b[49m\u001b[43m)\u001b[49m\n\u001b[1;32m     14\u001b[0m train_dataset \u001b[38;5;241m=\u001b[39m EASTDataset(train_dataset)\n\u001b[1;32m     16\u001b[0m val_dataset \u001b[38;5;241m=\u001b[39m SceneTextDataset(\n\u001b[1;32m     17\u001b[0m         root_dir\u001b[38;5;241m=\u001b[39mdata_dir,\n\u001b[1;32m     18\u001b[0m         split\u001b[38;5;241m=\u001b[39m\u001b[38;5;124m'\u001b[39m\u001b[38;5;124mtrain\u001b[39m\u001b[38;5;124m'\u001b[39m,\n\u001b[0;32m   (...)\u001b[0m\n\u001b[1;32m     23\u001b[0m         color_jitter\u001b[38;5;241m=\u001b[39m\u001b[38;5;28;01mFalse\u001b[39;00m,\n\u001b[1;32m     24\u001b[0m     )\n",
      "File \u001b[0;32m~/level2-cv-datacentric-cv-01/code/dataset.py:348\u001b[0m, in \u001b[0;36mSceneTextDataset.__init__\u001b[0;34m(self, root_dir, split, train_val, image_size, crop_size, ignore_tags, ignore_under_threshold, drop_under_threshold, color_jitter, normalize)\u001b[0m\n\u001b[1;32m    337\u001b[0m \u001b[38;5;28;01mdef\u001b[39;00m \u001b[38;5;21m__init__\u001b[39m(\u001b[38;5;28mself\u001b[39m, root_dir,\n\u001b[1;32m    338\u001b[0m              split\u001b[38;5;241m=\u001b[39m\u001b[38;5;124m'\u001b[39m\u001b[38;5;124mtrain\u001b[39m\u001b[38;5;124m'\u001b[39m,\n\u001b[1;32m    339\u001b[0m              train_val\u001b[38;5;241m=\u001b[39m\u001b[38;5;28;01mNone\u001b[39;00m,\n\u001b[0;32m   (...)\u001b[0m\n\u001b[1;32m    345\u001b[0m              color_jitter\u001b[38;5;241m=\u001b[39m\u001b[38;5;28;01mTrue\u001b[39;00m,\n\u001b[1;32m    346\u001b[0m              normalize\u001b[38;5;241m=\u001b[39m\u001b[38;5;28;01mTrue\u001b[39;00m):\n\u001b[1;32m    347\u001b[0m     \u001b[38;5;28;01mif\u001b[39;00m train_val:\n\u001b[0;32m--> 348\u001b[0m         \u001b[38;5;28;01mwith\u001b[39;00m \u001b[38;5;28mopen\u001b[39m(osp\u001b[38;5;241m.\u001b[39mjoin(root_dir, \u001b[38;5;124mf\u001b[39m\u001b[38;5;124m'\u001b[39m\u001b[38;5;124mufo/\u001b[39m\u001b[38;5;132;01m{\u001b[39;00mtrain_val\u001b[38;5;132;01m}\u001b[39;00m\u001b[38;5;124m'\u001b[39m), \u001b[38;5;124m'\u001b[39m\u001b[38;5;124mr\u001b[39m\u001b[38;5;124m'\u001b[39m) \u001b[38;5;28;01mas\u001b[39;00m f:\n\u001b[1;32m    349\u001b[0m             anno \u001b[38;5;241m=\u001b[39m json\u001b[38;5;241m.\u001b[39mload(f)\n\u001b[1;32m    351\u001b[0m     \u001b[38;5;28mself\u001b[39m\u001b[38;5;241m.\u001b[39manno \u001b[38;5;241m=\u001b[39m anno\n",
      "\u001b[0;31mFileNotFoundError\u001b[0m: [Errno 2] No such file or directory: '/data/ephemeral/home/level2-cv-datacentric-cv-01/data/medical/ufo/train_seed137.json.json'"
     ]
    }
   ],
   "source": [
    "data_dir = '/data/ephemeral/home/level2-cv-datacentric-cv-01/data/medical'\n",
    "image_size = 2048\n",
    "crop_size = 1024\n",
    "ignore_tags = ['masked', 'excluded-region', 'maintable', 'stamp']\n",
    "\n",
    "train_dataset = SceneTextDataset(\n",
    "        root_dir=data_dir,\n",
    "        split='train',\n",
    "        train_val='train_seed137',\n",
    "        image_size=image_size,\n",
    "        crop_size=crop_size,\n",
    "        ignore_tags=ignore_tags\n",
    "    )\n",
    "train_dataset = EASTDataset(train_dataset)\n",
    "    \n",
    "val_dataset = SceneTextDataset(\n",
    "        root_dir=data_dir,\n",
    "        split='train',\n",
    "        train_val='val_seed137',\n",
    "        image_size=image_size,\n",
    "        crop_size=image_size, # 이 부분이 다른 점\n",
    "        ignore_tags=ignore_tags,\n",
    "        color_jitter=False,\n",
    "    )\n",
    "val_dataset = EASTDataset(val_dataset)"
   ]
  },
  {
   "cell_type": "code",
   "execution_count": null,
   "metadata": {},
   "outputs": [],
   "source": [
    "for i in tqdm(range(len(train_dataset))):\n",
    "        g = train_dataset.__getitem__(i)\n",
    "        with open(file=osp.join(data_dir, f\"{i}.pkl\"), mode=\"wb\") as f:\n",
    "            pickle.dump(g, f)"
   ]
  }
 ],
 "metadata": {
  "kernelspec": {
   "display_name": "base",
   "language": "python",
   "name": "python3"
  },
  "language_info": {
   "codemirror_mode": {
    "name": "ipython",
    "version": 3
   },
   "file_extension": ".py",
   "mimetype": "text/x-python",
   "name": "python",
   "nbconvert_exporter": "python",
   "pygments_lexer": "ipython3",
   "version": "3.10.13"
  }
 },
 "nbformat": 4,
 "nbformat_minor": 2
}
