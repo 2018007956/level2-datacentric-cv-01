{
 "cells": [
  {
   "cell_type": "code",
   "execution_count": 1,
   "metadata": {},
   "outputs": [],
   "source": [
    "import json\n",
    "import os\n",
    "import numpy as np\n",
    "from sklearn.model_selection import train_test_split"
   ]
  },
  {
   "cell_type": "code",
   "execution_count": 2,
   "metadata": {},
   "outputs": [],
   "source": [
    "seed = 137\n",
    "\n",
    "root_dir = '../data/medical/ufo/'\n",
    "json_file = root_dir + 'train.json' # json 파일 경로\n",
    "kfold_train = root_dir + f'train_seed{seed}.json'\n",
    "kfold_val = root_dir + f'val_seed{seed}.json'\n",
    "\n",
    "with open(json_file, 'r') as f:\n",
    "    data = json.load(f)\n",
    "    \n",
    "images = list(data['images'].keys())\n",
    "\n",
    "train, val = train_test_split(images, train_size=0.8, shuffle=True, random_state=seed) # train = 0.8, val = 0.2 비율 나눔\n",
    "\n",
    "train_images = {img_id: data['images'][img_id] for img_id in train}\n",
    "train_anns = {'images': train_images}\n",
    "val_images = {img_id: data['images'][img_id] for img_id in val}\n",
    "val_anns = {'images': val_images}\n",
    "\n",
    "# split train json 파일 쓰기\n",
    "with open(kfold_train, 'w') as f:\n",
    "    json.dump(train_anns, f)\n",
    "\n",
    "# split val json 파일 쓰기\n",
    "with open(kfold_val, 'w') as f:\n",
    "    json.dump(val_anns, f)"
   ]
  }
 ],
 "metadata": {
  "kernelspec": {
   "display_name": "base",
   "language": "python",
   "name": "python3"
  },
  "language_info": {
   "codemirror_mode": {
    "name": "ipython",
    "version": 3
   },
   "file_extension": ".py",
   "mimetype": "text/x-python",
   "name": "python",
   "nbconvert_exporter": "python",
   "pygments_lexer": "ipython3",
   "version": "3.8.5"
  }
 },
 "nbformat": 4,
 "nbformat_minor": 2
}
